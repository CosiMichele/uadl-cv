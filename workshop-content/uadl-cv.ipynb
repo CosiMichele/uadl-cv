{
 "cells": [
  {
   "cell_type": "markdown",
   "metadata": {},
   "source": [
    "# Computer Vision: Image Analysis\n",
    "\n",
    "Images: \n",
    "- ![clear apples](https://www.kew.org/sites/default/files/styles/social/public/2022-05/apple%20cultivars.png?h=1d19dfc9&itok=NT2TwltK)\n",
    "- ![tagliere](https://media.post.rvohealth.io/wp-content/uploads/2020/09/health-benefits-of-apples-1200x628-facebook-1200x628.jpg)"
   ]
  },
  {
   "cell_type": "code",
   "execution_count": 2,
   "metadata": {},
   "outputs": [
    {
     "name": "stdout",
     "output_type": "stream",
     "text": [
      "--2023-11-17 20:18:43--  https://img.freepik.com/premium-photo/apple-fruit-basket-wooden-table-ripe-red-apples_73523-7545.jpg\n",
      "Resolving img.freepik.com (img.freepik.com)... 23.38.194.45, 23.38.194.40, 2600:1404:ec00:e::17da:e85a, ...\n",
      "Connecting to img.freepik.com (img.freepik.com)|23.38.194.45|:443... connected.\n",
      "HTTP request sent, awaiting response... 200 OK\n",
      "Length: 79745 (78K) [image/jpeg]\n",
      "Saving to: ‘apples.png’\n",
      "\n",
      "apples.png          100%[===================>]  77.88K   244KB/s    in 0.3s    \n",
      "\n",
      "2023-11-17 20:18:45 (244 KB/s) - ‘apples.png’ saved [79745/79745]\n",
      "\n"
     ]
    }
   ],
   "source": [
    "!wget -O apples.png https://www.kew.org/sites/default/files/styles/social/public/2022-05/apple%20cultivars.png?h=1d19dfc9&itok=NT2TwltK"
   ]
  },
  {
   "cell_type": "code",
   "execution_count": null,
   "metadata": {},
   "outputs": [],
   "source": [
    "import cv2\n",
    "import numpy as np\n",
    "from google.colab.patches import cv2_imshow\n",
    "\n",
    "# Load the image of apples\n",
    "image = cv2.imread('apples.png')\n",
    "\n",
    "# Convert the image to grayscale\n",
    "gray = cv2.cvtColor(image, cv2.COLOR_BGR2GRAY)\n",
    "\n",
    "# Apply Gaussian blur to reduce noise\n",
    "blurred = cv2.GaussianBlur(gray, (7, 7), 0)\n",
    "\n",
    "# Perform edge detection\n",
    "edges = cv2.Canny(blurred, 10, 100)\n",
    "\n",
    "# Find contours in the edge-detected image\n",
    "contours, _ = cv2.findContours(edges, cv2.RETR_EXTERNAL, cv2.CHAIN_APPROX_SIMPLE)\n",
    "\n",
    "# Initialize a counter for the number of apples\n",
    "apple_count = 0\n",
    "\n",
    "# Iterate through the contours and filter out small ones (potential noise)\n",
    "for contour in contours:\n",
    "    if cv2.contourArea(contour) > 100:\n",
    "        apple_count += 1\n",
    "\n",
    "# Print the number of apples found\n",
    "print(f\"Number of apples: {apple_count}\")"
   ]
  },
  {
   "cell_type": "code",
   "execution_count": null,
   "metadata": {},
   "outputs": [],
   "source": [
    "import torch\n",
    "import torchvision\n",
    "from torchvision import transforms\n",
    "from torchvision.models.detection import fasterrcnn_resnet50_fpn\n",
    "from PIL import Image, ImageDraw\n",
    "import requests\n",
    "from io import BytesIO\n",
    "\n",
    "# Load the pre-trained Faster R-CNN model\n",
    "model = fasterrcnn_resnet50_fpn(pretrained=True)\n",
    "model.eval()\n",
    "\n",
    "# Modify the transformation for input images\n",
    "transform = transforms.Compose([\n",
    "    transforms.ToTensor()\n",
    "])\n",
    "\n",
    "# Function to perform object detection on an image\n",
    "def detect_objects(model, image, threshold=0.5):\n",
    "    # Transform the input image\n",
    "    input_image = transform(image).unsqueeze(0)\n",
    "\n",
    "    # Perform inference\n",
    "    with torch.no_grad():\n",
    "        prediction = model(input_image)\n",
    "\n",
    "    # Filter out predictions below the threshold\n",
    "    boxes = prediction[0]['boxes'][prediction[0]['scores'] > threshold]\n",
    "    scores = prediction[0]['scores'][prediction[0]['scores'] > threshold]\n",
    "\n",
    "    return boxes, scores\n",
    "\n",
    "# Function to draw bounding boxes on the image\n",
    "def draw_boxes(image, boxes, scores):\n",
    "    draw = ImageDraw.Draw(image)\n",
    "    for box in boxes:\n",
    "        draw.rectangle([box[0], box[1], box[2], box[3]], outline=\"red\", width=3)\n",
    "    return image\n",
    "\n",
    "# Function to visualize the detection results\n",
    "def visualize_results(image, boxes, scores):\n",
    "    image_with_boxes = draw_boxes(image, boxes, scores)\n",
    "    display(image_with_boxes)\n",
    "\n",
    "# Example image path\n",
    "image_path = \"apples.png\"\n",
    "\n",
    "# Load image and perform object detection\n",
    "image = Image.open(image_path)\n",
    "\n",
    "boxes, scores = detect_objects(model, image, threshold=0.5)\n",
    "\n",
    "# Visualize the results\n",
    "visualize_results(image, boxes, scores)"
   ]
  }
 ],
 "metadata": {
  "kernelspec": {
   "display_name": "Python 3",
   "language": "python",
   "name": "python3"
  },
  "language_info": {
   "codemirror_mode": {
    "name": "ipython",
    "version": 3
   },
   "file_extension": ".py",
   "mimetype": "text/x-python",
   "name": "python",
   "nbconvert_exporter": "python",
   "pygments_lexer": "ipython3",
   "version": "3.10.8"
  }
 },
 "nbformat": 4,
 "nbformat_minor": 2
}
