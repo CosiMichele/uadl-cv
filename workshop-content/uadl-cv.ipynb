{
 "cells": [
  {
   "cell_type": "markdown",
   "metadata": {},
   "source": [
    "# Computer Vision: Image Analysis\n",
    "\n",
    "Holding"
   ]
  },
  {
   "cell_type": "code",
   "execution_count": 2,
   "metadata": {},
   "outputs": [
    {
     "name": "stdout",
     "output_type": "stream",
     "text": [
      "--2023-11-17 20:18:43--  https://img.freepik.com/premium-photo/apple-fruit-basket-wooden-table-ripe-red-apples_73523-7545.jpg\n",
      "Resolving img.freepik.com (img.freepik.com)... 23.38.194.45, 23.38.194.40, 2600:1404:ec00:e::17da:e85a, ...\n",
      "Connecting to img.freepik.com (img.freepik.com)|23.38.194.45|:443... connected.\n",
      "HTTP request sent, awaiting response... 200 OK\n",
      "Length: 79745 (78K) [image/jpeg]\n",
      "Saving to: ‘apples.png’\n",
      "\n",
      "apples.png          100%[===================>]  77.88K   244KB/s    in 0.3s    \n",
      "\n",
      "2023-11-17 20:18:45 (244 KB/s) - ‘apples.png’ saved [79745/79745]\n",
      "\n"
     ]
    }
   ],
   "source": [
    "!wget -O apples.png https://img.freepik.com/premium-photo/apple-fruit-basket-wooden-table-ripe-red-apples_73523-7545.jpg "
   ]
  },
  {
   "cell_type": "code",
   "execution_count": null,
   "metadata": {},
   "outputs": [],
   "source": [
    "import cv2\n",
    "import numpy as np\n",
    "\n",
    "# Load the image of apples\n",
    "image = cv2.imread('apples.png')\n",
    "\n",
    "# Convert the image to grayscale\n",
    "gray = cv2.cvtColor(image, cv2.COLOR_BGR2GRAY)\n",
    "\n",
    "# Apply Gaussian blur to reduce noise\n",
    "blurred = cv2.GaussianBlur(gray, (15, 15), 0)\n",
    "\n",
    "# Perform edge detection\n",
    "edges = cv2.Canny(blurred, 30, 150)\n",
    "\n",
    "# Find contours in the edge-detected image\n",
    "contours, _ = cv2.findContours(edges, cv2.RETR_EXTERNAL, cv2.CHAIN_APPROX_SIMPLE)\n",
    "\n",
    "# Initialize a counter for the number of apples\n",
    "apple_count = 0\n",
    "\n",
    "# Iterate through the contours and filter out small ones (potential noise)\n",
    "for contour in contours:\n",
    "    if cv2.contourArea(contour) > 1000:\n",
    "        apple_count += 1\n",
    "\n",
    "# Print the number of apples found\n",
    "print(f\"Number of apples: {apple_count}\")"
   ]
  },
  {
   "cell_type": "code",
   "execution_count": null,
   "metadata": {},
   "outputs": [],
   "source": [
    "import tensorflow as tf\n",
    "from tensorflow import keras\n",
    "import numpy as np\n",
    "import cv2\n",
    "\n",
    "# Load and preprocess the image of apples\n",
    "image = cv2.imread('apples.png')\n",
    "image = cv2.cvtColor(image, cv2.COLOR_BGR2RGB)  # Convert to RGB format\n",
    "image = cv2.resize(image, (32, 32))  # Resize to match CIFAR-10 input size\n",
    "\n",
    "# Create a model to classify CIFAR-10 classes\n",
    "model = keras.applications.VGG16(weights='imagenet', include_top=True)\n",
    "\n",
    "# Classify the image using the pre-trained model\n",
    "predictions = model.predict(image.reshape(1, 32, 32, 3))\n",
    "\n",
    "# Get the class label with the highest probability\n",
    "predicted_class = np.argmax(predictions)\n",
    "\n",
    "# Print the predicted class label (CIFAR-10 class)\n",
    "print(f\"Predicted class (CIFAR-10): {predicted_class}\")"
   ]
  }
 ],
 "metadata": {
  "kernelspec": {
   "display_name": "Python 3",
   "language": "python",
   "name": "python3"
  },
  "language_info": {
   "codemirror_mode": {
    "name": "ipython",
    "version": 3
   },
   "file_extension": ".py",
   "mimetype": "text/x-python",
   "name": "python",
   "nbconvert_exporter": "python",
   "pygments_lexer": "ipython3",
   "version": "3.10.8"
  }
 },
 "nbformat": 4,
 "nbformat_minor": 2
}
